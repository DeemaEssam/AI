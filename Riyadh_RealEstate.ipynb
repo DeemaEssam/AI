{
  "nbformat": 4,
  "nbformat_minor": 0,
  "metadata": {
    "colab": {
      "provenance": [],
      "authorship_tag": "ABX9TyMOiaGMriZlPGVCdTSldCDh",
      "include_colab_link": true
    },
    "kernelspec": {
      "name": "python3",
      "display_name": "Python 3"
    },
    "language_info": {
      "name": "python"
    }
  },
  "cells": [
    {
      "cell_type": "markdown",
      "metadata": {
        "id": "view-in-github",
        "colab_type": "text"
      },
      "source": [
        "<a href=\"https://colab.research.google.com/github/DeemaEssam/AI/blob/main/Riyadh_RealEstate.ipynb\" target=\"_parent\"><img src=\"https://colab.research.google.com/assets/colab-badge.svg\" alt=\"Open In Colab\"/></a>"
      ]
    },
    {
      "cell_type": "code",
      "execution_count": 36,
      "metadata": {
        "colab": {
          "base_uri": "https://localhost:8080/"
        },
        "id": "-vRyA0g8AABp",
        "outputId": "ce547567-c87c-439d-dbb3-ab82e4cf2aa0"
      },
      "outputs": [
        {
          "output_type": "stream",
          "name": "stdout",
          "text": [
            "['Price per Meter', 'Area', 'District_ حي المهدية ', 'Driver Room', 'Purpose_سكني', 'City_ الرياض ', 'Front_أربع شوارع', 'Number of Rooms', 'District_ حي الرمال ', 'Front_غربية']\n"
          ]
        }
      ],
      "source": [
        "import pandas as pd\n",
        "from sklearn.ensemble import RandomForestRegressor\n",
        "from sklearn.model_selection import train_test_split\n",
        "\n",
        "# Load the dataset\n",
        "data_path = '/content/Riyadh_RealEstate.csv'  # Adjust the path to your dataset\n",
        "df = pd.read_csv(data_path)\n",
        "\n",
        "# Example mapping of Arabic to English column names\n",
        "# Adjust the names according to your dataset\n",
        "column_name_mapping = {\n",
        "    'نوع العقار': 'Property Type',\n",
        "    'الغرض': 'Purpose',\n",
        "    'المدينة': 'City',\n",
        "    'الحي': 'District',\n",
        "    'الواجهة': 'Front',\n",
        "    'المساحة': 'Area',\n",
        "    'سعر المتر': 'Price per Meter',\n",
        "    'عدد الغرف': 'Number of Rooms',\n",
        "    'عدد الصالات': 'Number of Halls',\n",
        "    'عدد الحمامات': 'Number of Bathrooms',\n",
        "    'مطبخ': 'Kitchen',\n",
        "    'غرفة خادمة': 'Maid Room',\n",
        "    'غرفة سائق': 'Driver Room',\n",
        "    'ملحق': 'Annex',\n",
        "    'حوش': 'Yard',\n",
        "    'مسبح': 'Pool',\n",
        "    'قبو': 'Basement',\n",
        "    'مدخل سيارة': 'Car Entrance',\n",
        "    'مصعد': 'Elevator',\n",
        "    'السعر الاجمالي': 'Total Price'\n",
        "}\n",
        "\n",
        "# Renaming the columns in the DataFrame\n",
        "df_renamed = df.rename(columns=column_name_mapping)\n",
        "\n",
        "# Convert 'city', 'district', and 'front' columns to numeric format using get_dummies\n",
        "df_encoded = pd.get_dummies(df_renamed, columns=['Property Type', 'Purpose', 'City', 'District', 'Front'])\n",
        "\n",
        "# Assuming 'price' is the target variable, and excluding 'details' column as well\n",
        "X = df_encoded.drop(['Total Price'], axis=1)\n",
        "y = df_renamed['Total Price']\n",
        "df_encoded\n",
        "\n",
        "# Splitting the dataset into training and testing sets\n",
        "X_train, X_test, y_train, y_test = train_test_split(X, y, test_size=0.2, random_state=42)\n",
        "\n",
        "# Initializing and fitting the RandomForestRegressor\n",
        "rf = RandomForestRegressor(n_estimators=100, random_state=42)\n",
        "rf.fit(X_train, y_train)\n",
        "\n",
        "# Extracting feature importances\n",
        "feature_importances = rf.feature_importances_\n",
        "\n",
        "# Mapping feature importances to the corresponding column names\n",
        "features = pd.Series(feature_importances, index=X_train.columns).sort_values(ascending=False)\n",
        "# Assuming all previous steps are correctly implemented\n",
        "\n",
        "# Identifying the names of the top 10 features\n",
        "top_features_names = features.head(10).index.tolist()\n",
        "\n",
        "# Filtering the original dataset to include only these top 10 features plus the target variable\n",
        "filtered_df = df_encoded[top_features_names + ['Total Price']]\n",
        "\n",
        "# Now, you might want to save this filtered dataset to a new CSV file\n",
        "filtered_df.to_csv('newRealEstate.csv', index=False)\n",
        "\n",
        "# If you just want to display the top 10 feature names, you can do so directly\n",
        "print(top_features_names)\n"
      ]
    }
  ]
}